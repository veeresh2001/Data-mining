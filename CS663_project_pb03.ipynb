{
  "cells": [
    {
      "cell_type": "markdown",
      "source": [
        "# New Section"
      ],
      "metadata": {
        "id": "ZEyLUaNPNHC3"
      },
      "id": "ZEyLUaNPNHC3"
    },
    {
      "cell_type": "markdown",
      "source": [],
      "metadata": {
        "id": "JijPogWINOlJ"
      },
      "id": "JijPogWINOlJ"
    },
    {
      "cell_type": "markdown",
      "source": [
        "\n",
        "Parkinsons Telemonitoring Data Set  \n",
        "\n",
        "Abstract: Oxford Parkinson's Disease Telemonitoring Dataset\n",
        "\n",
        "============================================================\n",
        "\n",
        "Data Set Characteristics:  Multivariate\n",
        "Attribute Characteristics:  Integer, Real\n",
        "Associated Tasks:  Regression\n",
        "Number of Instances:  5875\n",
        "Number of Attributes:  26\n",
        "Area:  Life\n",
        "Date Donated:  2009-10-29\n",
        "\n",
        "============================================================\n",
        "\n",
        "SOURCE:\n",
        "\n",
        "The dataset was created by Athanasios Tsanas (tsanasthanasis '@' gmail.com)\n",
        "and Max Little (littlem '@' physics.ox.ac.uk) of the University of Oxford, in\n",
        "collaboration with 10 medical centers in the US and Intel Corporation who\n",
        "developed the telemonitoring device to record the speech signals. The\n",
        "original study used a range of linear and nonlinear regression methods to\n",
        "predict the clinicians Parkinsons disease symptom score on the UPDRS scale.\n",
        "\n",
        "\n",
        "============================================================\n",
        "\n",
        "DATA SET INFORMATION:\n",
        "\n",
        "This dataset is composed of a range of biomedical voice measurements from 42\n",
        "people with early-stage Parkinson's disease recruited to a six-month trial of\n",
        "a telemonitoring device for remote symptom progression monitoring. The\n",
        "recordings were automatically captured in the patient's homes.\n",
        "\n",
        "Columns in the table contain subject number, subject age, subject gender,\n",
        "time interval from baseline recruitment date, motor UPDRS, total UPDRS, and\n",
        "16 biomedical voice measures. Each row corresponds to one of 5,875 voice\n",
        "recording from these individuals. The main aim of the data is to predict the\n",
        "motor and total UPDRS scores ('motor_UPDRS' and 'total_UPDRS') from the 16\n",
        "voice measures.\n",
        "\n",
        "The data is in ASCII CSV format. The rows of the CSV file contain an instance\n",
        "corresponding to one voice recording. There are around 200 recordings per\n",
        "patient, the subject number of the patient is identified in the first column.\n",
        "For further information or to pass on comments, please contact Athanasios\n",
        "Tsanas (tsanasthanasis '@' gmail.com) or Max Little (littlem '@'\n",
        "physics.ox.ac.uk).\n",
        "\n",
        "Further details are contained in the following reference -- if you use this\n",
        "dataset, please cite:\n",
        "Athanasios Tsanas, Max A. Little, Patrick E. McSharry, Lorraine O. Ramig (2009),\n",
        "'Accurate telemonitoring of Parkinson.s disease progression by non-invasive speech tests',\n",
        "IEEE Transactions on Biomedical Engineering (to appear).\n",
        "\n",
        "Further details about the biomedical voice measures can be found in:\n",
        "Max A. Little, Patrick E. McSharry, Eric J. Hunter, Lorraine O. Ramig (2009),\n",
        "'Suitability of dysphonia measurements for telemonitoring of Parkinsons disease',\n",
        "IEEE Transactions on Biomedical Engineering, 56(4):1015-1022\n",
        "\n",
        "\n",
        "===========================================================\n",
        "\n",
        "ATTRIBUTE INFORMATION:\n",
        "\n",
        "subject# - Integer that uniquely identifies each subject\n",
        "age - Subject age\n",
        "sex - Subject gender '0' - male, '1' - female\n",
        "test_time - Time since recruitment into the trial. The integer part is the\n",
        "number of days since recruitment.\n",
        "motor_UPDRS - Clinicians motor UPDRS score, linearly interpolated\n",
        "total_UPDRS - Clinicians total UPDRS score, linearly interpolated\n",
        "Jitter(%),Jitter(Abs),Jitter:RAP,Jitter:PPQ5,Jitter:DDP - Several measures of\n",
        "variation in fundamental frequency\n",
        "Shimmer,Shimmer(dB),Shimmer:APQ3,Shimmer:APQ5,Shimmer:APQ11,Shimmer:DDA -\n",
        "Several measures of variation in amplitude\n",
        "NHR,HNR - Two measures of ratio of noise to tonal components in the voice\n",
        "RPDE - A nonlinear dynamical complexity measure\n",
        "DFA - Signal fractal scaling exponent\n",
        "PPE - A nonlinear measure of fundamental frequency variation\n",
        "\n",
        "\n",
        "===========================================================\n",
        "\n",
        "RELEVANT PAPERS:\n",
        "\n",
        "Little MA, McSharry PE, Hunter EJ, Ramig LO (2009),\n",
        "'Suitability of dysphonia measurements for telemonitoring of Parkinsons disease',\n",
        "IEEE Transactions on Biomedical Engineering, 56(4):1015-1022\n",
        "\n",
        "Little MA, McSharry PE, Roberts SJ, Costello DAE, Moroz IM.\n",
        "'Exploiting Nonlinear Recurrence and Fractal Scaling Properties for Voice Disorder Detection',\n",
        "BioMedical Engineering OnLine 2007, 6:23 (26 June 2007)\n",
        "\n",
        "===========================================================\n",
        "\n",
        "CITATION REQUEST:\n",
        "\n",
        "If you use this dataset, please cite the following paper:\n",
        "A Tsanas, MA Little, PE McSharry, LO Ramig (2009)\n",
        "'Accurate telemonitoring of Parkinsons disease progression by non-invasive speech tests',\n",
        "IEEE Transactions on Biomedical Engineering (to appear).\n",
        "\n",
        "\n",
        "\n"
      ],
      "metadata": {
        "id": "VZea8nz7NUNh"
      },
      "id": "VZea8nz7NUNh"
    },
    {
      "cell_type": "code",
      "execution_count": 1,
      "id": "f1bb9121-8a81-4f43-99fc-8aff0eb62272",
      "metadata": {
        "id": "f1bb9121-8a81-4f43-99fc-8aff0eb62272"
      },
      "outputs": [],
      "source": [
        "import pandas as pd\n",
        "import numpy as np\n",
        "import scipy\n",
        "from sklearn.cluster import KMeans\n",
        "\n",
        "from sklearn.svm import SVR\n",
        "from sklearn.metrics import mean_squared_error, r2_score\n",
        "from sklearn.preprocessing import StandardScaler\n",
        "\n",
        "from sklearn.model_selection import train_test_split\n",
        "from sklearn.svm import SVC\n",
        "from sklearn.metrics import accuracy_score, classification_report\n",
        "from sklearn.preprocessing import StandardScaler\n"
      ]
    },
    {
      "cell_type": "code",
      "execution_count": 8,
      "id": "00bcafc8-e334-4b2e-9eb5-7afe6853df0e",
      "metadata": {
        "colab": {
          "base_uri": "https://localhost:8080/"
        },
        "id": "00bcafc8-e334-4b2e-9eb5-7afe6853df0e",
        "outputId": "84722656-2885-4ecf-a20b-7cf30cc720a5"
      },
      "outputs": [
        {
          "output_type": "stream",
          "name": "stdout",
          "text": [
            "      subject#  age  sex  test_time  motor_UPDRS  total_UPDRS  Jitter(%)  \\\n",
            "0            1   72    0     5.6431       28.199       34.398    0.00662   \n",
            "1            1   72    0    12.6660       28.447       34.894    0.00300   \n",
            "2            1   72    0    19.6810       28.695       35.389    0.00481   \n",
            "3            1   72    0    25.6470       28.905       35.810    0.00528   \n",
            "4            1   72    0    33.6420       29.187       36.375    0.00335   \n",
            "...        ...  ...  ...        ...          ...          ...        ...   \n",
            "5870        42   61    0   142.7900       22.485       33.485    0.00406   \n",
            "5871        42   61    0   149.8400       21.988       32.988    0.00297   \n",
            "5872        42   61    0   156.8200       21.495       32.495    0.00349   \n",
            "5873        42   61    0   163.7300       21.007       32.007    0.00281   \n",
            "5874        42   61    0   170.7300       20.513       31.513    0.00282   \n",
            "\n",
            "      Jitter(Abs)  Jitter:RAP  Jitter:PPQ5  ...  Shimmer(dB)  Shimmer:APQ3  \\\n",
            "0        0.000034     0.00401      0.00317  ...        0.230       0.01438   \n",
            "1        0.000017     0.00132      0.00150  ...        0.179       0.00994   \n",
            "2        0.000025     0.00205      0.00208  ...        0.181       0.00734   \n",
            "3        0.000027     0.00191      0.00264  ...        0.327       0.01106   \n",
            "4        0.000020     0.00093      0.00130  ...        0.176       0.00679   \n",
            "...           ...         ...          ...  ...          ...           ...   \n",
            "5870     0.000031     0.00167      0.00168  ...        0.160       0.00973   \n",
            "5871     0.000025     0.00119      0.00147  ...        0.215       0.01052   \n",
            "5872     0.000025     0.00152      0.00187  ...        0.244       0.01371   \n",
            "5873     0.000020     0.00128      0.00151  ...        0.131       0.00693   \n",
            "5874     0.000021     0.00135      0.00166  ...        0.171       0.00946   \n",
            "\n",
            "      Shimmer:APQ5  Shimmer:APQ11  Shimmer:DDA       NHR     HNR     RPDE  \\\n",
            "0          0.01309        0.01662      0.04314  0.014290  21.640  0.41888   \n",
            "1          0.01072        0.01689      0.02982  0.011112  27.183  0.43493   \n",
            "2          0.00844        0.01458      0.02202  0.020220  23.047  0.46222   \n",
            "3          0.01265        0.01963      0.03317  0.027837  24.445  0.48730   \n",
            "4          0.00929        0.01819      0.02036  0.011625  26.126  0.47188   \n",
            "...            ...            ...          ...       ...     ...      ...   \n",
            "5870       0.01133        0.01549      0.02920  0.025137  22.369  0.64215   \n",
            "5871       0.01277        0.01904      0.03157  0.011927  22.886  0.52598   \n",
            "5872       0.01456        0.01877      0.04112  0.017701  25.065  0.47792   \n",
            "5873       0.00870        0.01307      0.02078  0.007984  24.422  0.56865   \n",
            "5874       0.01154        0.01470      0.02839  0.008172  23.259  0.58608   \n",
            "\n",
            "          DFA      PPE  \n",
            "0     0.54842  0.16006  \n",
            "1     0.56477  0.10810  \n",
            "2     0.54405  0.21014  \n",
            "3     0.57794  0.33277  \n",
            "4     0.56122  0.19361  \n",
            "...       ...      ...  \n",
            "5870  0.55314  0.21367  \n",
            "5871  0.56518  0.12621  \n",
            "5872  0.57888  0.14157  \n",
            "5873  0.56327  0.14204  \n",
            "5874  0.57077  0.15336  \n",
            "\n",
            "[5875 rows x 22 columns]\n"
          ]
        }
      ],
      "source": [
        "dataFileA=pd.read_csv(\"parkinsons_updrs.data\") #found file\n",
        "#dataFileB=pd.read_csv(\"parkinsons_updrs.names\")\n",
        "\n",
        "print(dataFileA)"
      ]
    },
    {
      "cell_type": "code",
      "source": [
        "dataFileA_np = np.array(dataFileA)\n",
        "\n",
        "#x_norm = (x-np.min(x))/(np.max(x)-np.min(x))\n",
        "\n",
        "print(dataFileA_np)\n",
        "\n",
        "\n",
        "normalizedA = (dataFileA_np-np.min(dataFileA_np))/(np.max(dataFileA_np)-np.min(dataFileA_np))\n",
        "print(normalizedA)\n",
        "\n",
        "#note that normalizedA isnt meaningful for the first 3 columns\n",
        "normalizedA_data = normalizedA[:,3:]\n",
        "normalizedA_data = normalizedA[:,:normalizedA_data.shape[1]-3]\n",
        "\n",
        "print(normalizedA_data)"
      ],
      "metadata": {
        "colab": {
          "base_uri": "https://localhost:8080/"
        },
        "id": "dH-rpYMGmw3V",
        "outputId": "3726f218-c1e2-4fdc-f73d-0091675235d7"
      },
      "id": "dH-rpYMGmw3V",
      "execution_count": 9,
      "outputs": [
        {
          "output_type": "stream",
          "name": "stdout",
          "text": [
            "[[ 1.      72.       0.      ...  0.41888  0.54842  0.16006]\n",
            " [ 1.      72.       0.      ...  0.43493  0.56477  0.1081 ]\n",
            " [ 1.      72.       0.      ...  0.46222  0.54405  0.21014]\n",
            " ...\n",
            " [42.      61.       0.      ...  0.47792  0.57888  0.14157]\n",
            " [42.      61.       0.      ...  0.56865  0.56327  0.14204]\n",
            " [42.      61.       0.      ...  0.58608  0.57077  0.15336]]\n",
            "[[0.0239474  0.34703815 0.01939682 ... 0.02130297 0.02189245 0.02012519]\n",
            " [0.0239474  0.34703815 0.01939682 ... 0.021376   0.02196685 0.01988874]\n",
            " [0.0239474  0.34703815 0.01939682 ... 0.02150019 0.02187256 0.02035308]\n",
            " ...\n",
            " [0.21052093 0.29698183 0.01939682 ... 0.02157163 0.02203106 0.02004105]\n",
            " [0.21052093 0.29698183 0.01939682 ... 0.02198451 0.02196002 0.02004318]\n",
            " [0.21052093 0.29698183 0.01939682 ... 0.02206382 0.02199415 0.0200947 ]]\n",
            "[[0.0239474  0.34703815 0.01939682 ... 0.01946226 0.01945639 0.01947245]\n",
            " [0.0239474  0.34703815 0.01939682 ... 0.01944205 0.0194456  0.01947368]\n",
            " [0.0239474  0.34703815 0.01939682 ... 0.01943022 0.01943523 0.01946317]\n",
            " ...\n",
            " [0.21052093 0.29698183 0.01939682 ... 0.01945921 0.01946308 0.01948224]\n",
            " [0.21052093 0.29698183 0.01939682 ... 0.01942836 0.01943641 0.0194563 ]\n",
            " [0.21052093 0.29698183 0.01939682 ... 0.01943987 0.01944934 0.01946371]]\n"
          ]
        }
      ]
    },
    {
      "cell_type": "code",
      "execution_count": 10,
      "id": "b3f33198-98cb-489a-94c5-64032253457c",
      "metadata": {
        "colab": {
          "base_uri": "https://localhost:8080/"
        },
        "id": "b3f33198-98cb-489a-94c5-64032253457c",
        "outputId": "23323dd8-dd75-4f58-b2d6-48fcb7915974"
      },
      "outputs": [
        {
          "output_type": "stream",
          "name": "stdout",
          "text": [
            "Original Data:\n",
            "[[ 1.      72.       0.      ...  0.41888  0.54842  0.16006]\n",
            " [ 1.      72.       0.      ...  0.43493  0.56477  0.1081 ]\n",
            " [ 1.      72.       0.      ...  0.46222  0.54405  0.21014]\n",
            " ...\n",
            " [42.      61.       0.      ...  0.47792  0.57888  0.14157]\n",
            " [42.      61.       0.      ...  0.56865  0.56327  0.14204]\n",
            " [42.      61.       0.      ...  0.58608  0.57077  0.15336]]\n",
            "\n",
            "Normalized Data:\n",
            "[[ 1.         72.          0.         ...  0.32863838  0.0977927\n",
            "   0.19454397]\n",
            " [ 1.         72.          0.         ...  0.34833018  0.14429969\n",
            "   0.12133479]\n",
            " [ 1.         72.          0.         ...  0.38181238  0.08536238\n",
            "   0.26510433]\n",
            " ...\n",
            " [42.         61.          0.         ...  0.40107477  0.18443509\n",
            "   0.16849243]\n",
            " [42.         61.          0.         ...  0.51239173  0.140033\n",
            "   0.16915464]\n",
            " [42.         61.          0.         ...  0.53377665  0.16136648\n",
            "   0.18510399]]\n"
          ]
        }
      ],
      "source": [
        "import numpy as np\n",
        "\n",
        "# Assuming dataFileA is your original data (replace this with your actual data)\n",
        "dataFileA_np = np.array(dataFileA)\n",
        "\n",
        "# Extract the first 3 columns (assuming these are non-numeric or non-meaningful for normalization)\n",
        "non_numeric_columns = dataFileA_np[:, :3]\n",
        "\n",
        "# Extract the numeric columns for normalization\n",
        "numeric_columns = dataFileA_np[:, 3:]\n",
        "\n",
        "# Normalize the numeric columns\n",
        "normalized_numeric_columns = (numeric_columns - np.min(numeric_columns, axis=0)) / (np.max(numeric_columns, axis=0) - np.min(numeric_columns, axis=0))\n",
        "\n",
        "# Combine the non-numeric columns and the normalized numeric columns\n",
        "normalizedA_data = np.column_stack((non_numeric_columns, normalized_numeric_columns))\n",
        "\n",
        "# Display the original and normalized data\n",
        "print(\"Original Data:\")\n",
        "print(dataFileA_np)\n",
        "\n",
        "print(\"\\nNormalized Data:\")\n",
        "print(normalizedA_data)\n"
      ]
    },
    {
      "cell_type": "code",
      "execution_count": 11,
      "id": "2b37806b-bfd7-4a04-97d6-c1f32f07cad5",
      "metadata": {
        "colab": {
          "base_uri": "https://localhost:8080/",
          "height": 280
        },
        "id": "2b37806b-bfd7-4a04-97d6-c1f32f07cad5",
        "outputId": "31e5fea5-3024-4f22-afb3-96d4047344f7"
      },
      "outputs": [
        {
          "output_type": "stream",
          "name": "stdout",
          "text": [
            "(5875, 22)\n",
            "(5875,)\n",
            "(5875, 22)\n"
          ]
        },
        {
          "output_type": "error",
          "ename": "NameError",
          "evalue": "ignored",
          "traceback": [
            "\u001b[0;31m---------------------------------------------------------------------------\u001b[0m",
            "\u001b[0;31mNameError\u001b[0m                                 Traceback (most recent call last)",
            "\u001b[0;32m<ipython-input-11-8381a8d75c81>\u001b[0m in \u001b[0;36m<cell line: 24>\u001b[0;34m()\u001b[0m\n\u001b[1;32m     22\u001b[0m \u001b[0mright\u001b[0m \u001b[0;34m=\u001b[0m \u001b[0mnp\u001b[0m\u001b[0;34m.\u001b[0m\u001b[0masarray\u001b[0m\u001b[0;34m(\u001b[0m\u001b[0morigin\u001b[0m\u001b[0;34m[\u001b[0m\u001b[0;34m:\u001b[0m\u001b[0;34m,\u001b[0m\u001b[0;34m:\u001b[0m\u001b[0;36m1\u001b[0m\u001b[0;34m]\u001b[0m\u001b[0;34m,\u001b[0m \u001b[0morder\u001b[0m\u001b[0;34m=\u001b[0m\u001b[0;34m'c'\u001b[0m\u001b[0;34m)\u001b[0m\u001b[0;34m.\u001b[0m\u001b[0msqueeze\u001b[0m\u001b[0;34m(\u001b[0m\u001b[0;34m)\u001b[0m\u001b[0;34m\u001b[0m\u001b[0;34m\u001b[0m\u001b[0m\n\u001b[1;32m     23\u001b[0m \u001b[0;34m\u001b[0m\u001b[0m\n\u001b[0;32m---> 24\u001b[0;31m \u001b[0mprint\u001b[0m\u001b[0;34m(\u001b[0m\u001b[0mscipy\u001b[0m\u001b[0;34m.\u001b[0m\u001b[0mspatial\u001b[0m\u001b[0;34m.\u001b[0m\u001b[0mdistance\u001b[0m\u001b[0;34m.\u001b[0m\u001b[0mminkowski\u001b[0m\u001b[0;34m(\u001b[0m\u001b[0mleft\u001b[0m\u001b[0;34m,\u001b[0m\u001b[0mright\u001b[0m\u001b[0;34m,\u001b[0m\u001b[0mp\u001b[0m\u001b[0;34m=\u001b[0m\u001b[0;36m16\u001b[0m\u001b[0;34m)\u001b[0m\u001b[0;34m)\u001b[0m\u001b[0;34m\u001b[0m\u001b[0;34m\u001b[0m\u001b[0m\n\u001b[0m\u001b[1;32m     25\u001b[0m \u001b[0;31m#scipy.spatial.distance\u001b[0m\u001b[0;34m\u001b[0m\u001b[0;34m\u001b[0m\u001b[0m\n",
            "\u001b[0;31mNameError\u001b[0m: name 'scipy' is not defined"
          ]
        }
      ],
      "source": [
        "\n",
        "print(normalizedA_data.shape)\n",
        "\n",
        "origin = np.zeros(normalizedA_data.shape)\n",
        "#print(squeeze(normalizedA_data[:,:1].ndim))\n",
        "#print(origin[:,:1].ndim)\n",
        "#print(normalizedA_data[:,:1])\n",
        "#print(origin[:,:1])\n",
        "#print(normalizedA_data[:,:1].shape)\n",
        "\n",
        "\n",
        "oneRow = np.asarray(normalizedA_data[:,:1], order='c').squeeze()\n",
        "\n",
        "print(oneRow.shape)\n",
        "\n",
        "\n",
        "#print(origin)\n",
        "print(origin.shape)\n",
        "\n",
        "# scipy.spatial.distance.minkowski(u, v, p=2, w=None)[source]\n",
        "\n",
        "left = np.asarray(normalizedA_data[:,:1], order='c').squeeze()\n",
        "right = np.asarray(origin[:,:1], order='c').squeeze()\n",
        "\n",
        "print(scipy.spatial.distance.minkowski(left,right,p=16))\n",
        "#scipy.spatial.distance\n"
      ]
    },
    {
      "cell_type": "markdown",
      "id": "73ce4243-d378-4a9f-9ea9-6fbcd66e79f7",
      "metadata": {
        "id": "73ce4243-d378-4a9f-9ea9-6fbcd66e79f7"
      },
      "source": [
        "#clustering interested in seeing how people use clustering\n",
        "\n",
        "\n",
        "x0 = {jitter0high, jitter1low,    }\n",
        "x1 = {jitter0low, jitter1low ,   }   -> low medium high clinical analysis\n",
        "\n",
        "low < .2 medium < .4\n",
        "\n",
        "\n",
        "\n",
        "\n",
        "\n"
      ]
    },
    {
      "cell_type": "code",
      "execution_count": 12,
      "id": "5294d1cd-549d-46ac-b25e-8ccd1354e246",
      "metadata": {
        "colab": {
          "base_uri": "https://localhost:8080/"
        },
        "id": "5294d1cd-549d-46ac-b25e-8ccd1354e246",
        "outputId": "03d2823b-01cb-4b90-d0ba-29af7f4883eb"
      },
      "outputs": [
        {
          "output_type": "stream",
          "name": "stderr",
          "text": [
            "/usr/local/lib/python3.10/dist-packages/sklearn/cluster/_kmeans.py:870: FutureWarning: The default value of `n_init` will change from 10 to 'auto' in 1.4. Set the value of `n_init` explicitly to suppress the warning\n",
            "  warnings.warn(\n"
          ]
        },
        {
          "output_type": "stream",
          "name": "stdout",
          "text": [
            "      subject#  age  sex  test_time  motor_UPDRS  total_UPDRS  Jitter(%)  \\\n",
            "0            1   72    0     5.6431       28.199       34.398    0.00662   \n",
            "1            1   72    0    12.6660       28.447       34.894    0.00300   \n",
            "2            1   72    0    19.6810       28.695       35.389    0.00481   \n",
            "3            1   72    0    25.6470       28.905       35.810    0.00528   \n",
            "4            1   72    0    33.6420       29.187       36.375    0.00335   \n",
            "...        ...  ...  ...        ...          ...          ...        ...   \n",
            "5870        42   61    0   142.7900       22.485       33.485    0.00406   \n",
            "5871        42   61    0   149.8400       21.988       32.988    0.00297   \n",
            "5872        42   61    0   156.8200       21.495       32.495    0.00349   \n",
            "5873        42   61    0   163.7300       21.007       32.007    0.00281   \n",
            "5874        42   61    0   170.7300       20.513       31.513    0.00282   \n",
            "\n",
            "      Jitter(Abs)  Jitter:RAP  Jitter:PPQ5  ...  Shimmer:APQ3  Shimmer:APQ5  \\\n",
            "0        0.000034     0.00401      0.00317  ...       0.01438       0.01309   \n",
            "1        0.000017     0.00132      0.00150  ...       0.00994       0.01072   \n",
            "2        0.000025     0.00205      0.00208  ...       0.00734       0.00844   \n",
            "3        0.000027     0.00191      0.00264  ...       0.01106       0.01265   \n",
            "4        0.000020     0.00093      0.00130  ...       0.00679       0.00929   \n",
            "...           ...         ...          ...  ...           ...           ...   \n",
            "5870     0.000031     0.00167      0.00168  ...       0.00973       0.01133   \n",
            "5871     0.000025     0.00119      0.00147  ...       0.01052       0.01277   \n",
            "5872     0.000025     0.00152      0.00187  ...       0.01371       0.01456   \n",
            "5873     0.000020     0.00128      0.00151  ...       0.00693       0.00870   \n",
            "5874     0.000021     0.00135      0.00166  ...       0.00946       0.01154   \n",
            "\n",
            "      Shimmer:APQ11  Shimmer:DDA       NHR     HNR     RPDE      DFA      PPE  \\\n",
            "0           0.01662      0.04314  0.014290  21.640  0.41888  0.54842  0.16006   \n",
            "1           0.01689      0.02982  0.011112  27.183  0.43493  0.56477  0.10810   \n",
            "2           0.01458      0.02202  0.020220  23.047  0.46222  0.54405  0.21014   \n",
            "3           0.01963      0.03317  0.027837  24.445  0.48730  0.57794  0.33277   \n",
            "4           0.01819      0.02036  0.011625  26.126  0.47188  0.56122  0.19361   \n",
            "...             ...          ...       ...     ...      ...      ...      ...   \n",
            "5870        0.01549      0.02920  0.025137  22.369  0.64215  0.55314  0.21367   \n",
            "5871        0.01904      0.03157  0.011927  22.886  0.52598  0.56518  0.12621   \n",
            "5872        0.01877      0.04112  0.017701  25.065  0.47792  0.57888  0.14157   \n",
            "5873        0.01307      0.02078  0.007984  24.422  0.56865  0.56327  0.14204   \n",
            "5874        0.01470      0.02839  0.008172  23.259  0.58608  0.57077  0.15336   \n",
            "\n",
            "      Cluster  \n",
            "0           7  \n",
            "1           7  \n",
            "2           7  \n",
            "3           7  \n",
            "4           7  \n",
            "...       ...  \n",
            "5870       15  \n",
            "5871       15  \n",
            "5872       15  \n",
            "5873       15  \n",
            "5874       15  \n",
            "\n",
            "[5875 rows x 23 columns]\n"
          ]
        }
      ],
      "source": [
        "import numpy as np\n",
        "from sklearn.cluster import KMeans\n",
        "import pandas as pd\n",
        "\n",
        "# Assuming dataFileA is your original data (replace this with your actual data)\n",
        "dataFileA_np = np.array(normalizedA_data)\n",
        "\n",
        "# Extract the numeric columns for clustering\n",
        "numeric_columns = dataFileA_np[:, 3:]\n",
        "\n",
        "# Choose the number of clusters (you need to specify this)\n",
        "n_clusters = 22  # Adjust this based on your problem\n",
        "\n",
        "# Perform k-means clustering\n",
        "kmeans = KMeans(n_clusters=n_clusters, random_state=42)\n",
        "clusters = kmeans.fit_predict(numeric_columns)\n",
        "\n",
        "# Add the cluster labels to the original data\n",
        "dataFileA_clustered = pd.DataFrame(dataFileA, columns=dataFileA.columns)\n",
        "dataFileA_clustered['Cluster'] = clusters\n",
        "\n",
        "# Display the clustered data\n",
        "print(dataFileA_clustered)\n"
      ]
    },
    {
      "cell_type": "code",
      "source": [
        "import numpy as np\n",
        "import pandas as pd\n",
        "from sklearn.cluster import KMeans\n",
        "import matplotlib.pyplot as plt\n",
        "\n",
        "# Assuming dataFileA is your original data (replace this with your actual data)\n",
        "dataFileA_np = np.array(normalizedA_data)\n",
        "\n",
        "# Extract the numeric columns for clustering\n",
        "numeric_columns = dataFileA_np[:, 3:]\n",
        "\n",
        "# Specify the number of clusters (you can adjust this based on your data)\n",
        "num_clusters = 3\n",
        "\n",
        "# Perform k-means clustering\n",
        "kmeans = KMeans(n_clusters=num_clusters, random_state=42)\n",
        "clusters = kmeans.fit_predict(numeric_columns)\n",
        "\n",
        "# Add the cluster labels to the original DataFrame\n",
        "dataFileA['Cluster'] = clusters\n",
        "\n",
        "# Display the cluster assignments\n",
        "print(\"Cluster Assignments:\")\n",
        "print(dataFileA[['subject#', 'age', 'sex', 'Cluster']])\n",
        "\n",
        "# Scatter plot\n",
        "plt.scatter(dataFileA['motor_UPDRS'], dataFileA['total_UPDRS'], c=dataFileA['Cluster'], cmap='viridis', alpha=0.5)\n",
        "plt.xlabel('motor_UPDRS')\n",
        "plt.ylabel('total_UPDRS')\n",
        "plt.title('KMeans Clustering')\n",
        "plt.show()\n"
      ],
      "metadata": {
        "colab": {
          "base_uri": "https://localhost:8080/",
          "height": 787
        },
        "id": "gZ1ardbyoUMe",
        "outputId": "a875bce0-4fba-4cea-8d39-fa45f33ce5b0"
      },
      "id": "gZ1ardbyoUMe",
      "execution_count": 13,
      "outputs": [
        {
          "output_type": "stream",
          "name": "stderr",
          "text": [
            "/usr/local/lib/python3.10/dist-packages/sklearn/cluster/_kmeans.py:870: FutureWarning: The default value of `n_init` will change from 10 to 'auto' in 1.4. Set the value of `n_init` explicitly to suppress the warning\n",
            "  warnings.warn(\n"
          ]
        },
        {
          "output_type": "stream",
          "name": "stdout",
          "text": [
            "Cluster Assignments:\n",
            "      subject#  age  sex  Cluster\n",
            "0            1   72    0        2\n",
            "1            1   72    0        2\n",
            "2            1   72    0        2\n",
            "3            1   72    0        2\n",
            "4            1   72    0        2\n",
            "...        ...  ...  ...      ...\n",
            "5870        42   61    0        2\n",
            "5871        42   61    0        2\n",
            "5872        42   61    0        2\n",
            "5873        42   61    0        2\n",
            "5874        42   61    0        2\n",
            "\n",
            "[5875 rows x 4 columns]\n"
          ]
        },
        {
          "output_type": "display_data",
          "data": {
            "text/plain": [
              "<Figure size 640x480 with 1 Axes>"
            ],
            "image/png": "[encoded data removed]"
          },
          "metadata": {}
        }
      ]
    },
    {
      "cell_type": "code",
      "source": [
        "import numpy as np\n",
        "import pandas as pd\n",
        "from sklearn.model_selection import train_test_split\n",
        "from sklearn.svm import SVC\n",
        "from sklearn.metrics import accuracy_score, confusion_matrix\n",
        "import matplotlib.pyplot as plt\n",
        "\n",
        "# Assuming dataFileA is your original data with the added 'Cluster' column (replace this with your actual data)\n",
        "# ...\n",
        "\n",
        "# Features (X): Use relevant columns based on your data\n",
        "features = dataFileA[['motor_UPDRS', 'total_UPDRS']].values\n",
        "\n",
        "# Labels (y): Cluster assignments obtained from k-means\n",
        "labels = dataFileA['Cluster'].values\n",
        "\n",
        "# Split the data into training and testing sets\n",
        "X_train, X_test, y_train, y_test = train_test_split(features, labels, test_size=0.2, random_state=42)\n",
        "\n",
        "# SVM classifier\n",
        "svm_classifier = SVC(kernel='linear', C=1.0, random_state=42)\n",
        "\n",
        "# Train the SVM classifier\n",
        "svm_classifier.fit(X_train, y_train)\n",
        "\n",
        "# Predict on the test set\n",
        "y_pred = svm_classifier.predict(X_test)\n",
        "\n",
        "# Evaluate the classifier\n",
        "accuracy = accuracy_score(y_test, y_pred)\n",
        "conf_matrix = confusion_matrix(y_test, y_pred)\n",
        "\n",
        "# Display evaluation metrics\n",
        "print(f\"Accuracy: {accuracy * 100:.2f}%\")\n",
        "print(\"Confusion Matrix:\")\n",
        "print(conf_matrix)\n",
        "\n",
        "# Scatter plot of the SVM decision boundary\n",
        "h = .02  # step size in the mesh\n",
        "x_min, x_max = features[:, 0].min() - 1, features[:, 0].max() + 1\n",
        "y_min, y_max = features[:, 1].min() - 1, features[:, 1].max() + 1\n",
        "xx, yy = np.meshgrid(np.arange(x_min, x_max, h), np.arange(y_min, y_max, h))\n",
        "\n",
        "Z = svm_classifier.predict(np.c_[xx.ravel(), yy.ravel()])\n",
        "Z = Z.reshape(xx.shape)\n",
        "\n",
        "plt.contourf(xx, yy, Z, cmap=plt.cm.coolwarm, alpha=0.3)\n",
        "plt.scatter(features[:, 0], features[:, 1], c=labels, cmap='viridis', edgecolors='k', marker='o')\n",
        "plt.xlabel('motor_UPDRS')\n",
        "plt.ylabel('total_UPDRS')\n",
        "plt.title('SVM Classification on KMeans Clustered Data')\n",
        "plt.show()\n"
      ],
      "metadata": {
        "colab": {
          "base_uri": "https://localhost:8080/",
          "height": 245
        },
        "id": "v3KTlNqcpdi5",
        "outputId": "b9f0c8a3-3582-4070-856a-95011d0db824"
      },
      "id": "v3KTlNqcpdi5",
      "execution_count": 6,
      "outputs": [
        {
          "output_type": "error",
          "ename": "NameError",
          "evalue": "ignored",
          "traceback": [
            "\u001b[0;31m---------------------------------------------------------------------------\u001b[0m",
            "\u001b[0;31mNameError\u001b[0m                                 Traceback (most recent call last)",
            "\u001b[0;32m<ipython-input-6-17b3613a354a>\u001b[0m in \u001b[0;36m<cell line: 12>\u001b[0;34m()\u001b[0m\n\u001b[1;32m     10\u001b[0m \u001b[0;34m\u001b[0m\u001b[0m\n\u001b[1;32m     11\u001b[0m \u001b[0;31m# Features (X): Use relevant columns based on your data\u001b[0m\u001b[0;34m\u001b[0m\u001b[0;34m\u001b[0m\u001b[0m\n\u001b[0;32m---> 12\u001b[0;31m \u001b[0mfeatures\u001b[0m \u001b[0;34m=\u001b[0m \u001b[0mdataFileA\u001b[0m\u001b[0;34m[\u001b[0m\u001b[0;34m[\u001b[0m\u001b[0;34m'motor_UPDRS'\u001b[0m\u001b[0;34m,\u001b[0m \u001b[0;34m'total_UPDRS'\u001b[0m\u001b[0;34m]\u001b[0m\u001b[0;34m]\u001b[0m\u001b[0;34m.\u001b[0m\u001b[0mvalues\u001b[0m\u001b[0;34m\u001b[0m\u001b[0;34m\u001b[0m\u001b[0m\n\u001b[0m\u001b[1;32m     13\u001b[0m \u001b[0;34m\u001b[0m\u001b[0m\n\u001b[1;32m     14\u001b[0m \u001b[0;31m# Labels (y): Cluster assignments obtained from k-means\u001b[0m\u001b[0;34m\u001b[0m\u001b[0;34m\u001b[0m\u001b[0m\n",
            "\u001b[0;31mNameError\u001b[0m: name 'dataFileA' is not defined"
          ]
        }
      ]
    },
    {
      "cell_type": "markdown",
      "source": [
        "do classification on motor and totalupdrs"
      ],
      "metadata": {
        "id": "m_hRV7B3uoPl"
      },
      "id": "m_hRV7B3uoPl"
    },
    {
      "cell_type": "code",
      "execution_count": 3,
      "id": "f4b960fd-f6d6-4aff-bcb3-c9175bcce71d",
      "metadata": {
        "colab": {
          "base_uri": "https://localhost:8080/",
          "height": 245
        },
        "id": "f4b960fd-f6d6-4aff-bcb3-c9175bcce71d",
        "outputId": "4c4e5705-1bc8-4653-f20a-488fe83790f8"
      },
      "outputs": [
        {
          "output_type": "error",
          "ename": "NameError",
          "evalue": "ignored",
          "traceback": [
            "\u001b[0;31m---------------------------------------------------------------------------\u001b[0m",
            "\u001b[0;31mNameError\u001b[0m                                 Traceback (most recent call last)",
            "\u001b[0;32m<ipython-input-3-90263cc18ee4>\u001b[0m in \u001b[0;36m<cell line: 10>\u001b[0;34m()\u001b[0m\n\u001b[1;32m      8\u001b[0m \u001b[0;34m\u001b[0m\u001b[0m\n\u001b[1;32m      9\u001b[0m \u001b[0;31m# Features for clustering\u001b[0m\u001b[0;34m\u001b[0m\u001b[0;34m\u001b[0m\u001b[0m\n\u001b[0;32m---> 10\u001b[0;31m \u001b[0mfeatures\u001b[0m \u001b[0;34m=\u001b[0m \u001b[0mnormalizedA_data\u001b[0m\u001b[0;34m\u001b[0m\u001b[0;34m\u001b[0m\u001b[0m\n\u001b[0m\u001b[1;32m     11\u001b[0m \u001b[0;34m\u001b[0m\u001b[0m\n\u001b[1;32m     12\u001b[0m \u001b[0;31m# Perform OPTICS clustering\u001b[0m\u001b[0;34m\u001b[0m\u001b[0;34m\u001b[0m\u001b[0m\n",
            "\u001b[0;31mNameError\u001b[0m: name 'normalizedA_data' is not defined"
          ]
        }
      ],
      "source": [
        "import numpy as np\n",
        "import pandas as pd\n",
        "from sklearn.cluster import OPTICS\n",
        "import matplotlib.pyplot as plt\n",
        "\n",
        "# Assuming normalizedA_data is your normalized data (replace this with your actual normalized data)\n",
        "# ...\n",
        "\n",
        "# Features for clustering\n",
        "features = normalizedA_data\n",
        "\n",
        "# Perform OPTICS clustering\n",
        "clustering = OPTICS(min_samples=3, xi=0.01, min_cluster_size=0.05)\n",
        "\n",
        "# Extract cluster assignments\n",
        "clusters = clustering.fit_predict(features)\n",
        "\n",
        "# Use the same number of clusters as in your k-means example\n",
        "num_clusters = len(np.unique(clusters))\n",
        "\n",
        "# Add the cluster labels to the normalized data\n",
        "normalizedA_data_with_clusters = np.column_stack((normalizedA_data, clusters))\n",
        "\n",
        "# Display the cluster assignments\n",
        "print(\"Cluster Assignments:\")\n",
        "print(normalizedA_data_with_clusters)\n",
        "\n",
        "# Scatter plot\n",
        "plt.scatter(normalizedA_data[:, 0], normalizedA_data[:, 1], c=clusters, cmap='viridis', alpha=0.5)\n",
        "plt.xlabel('Feature 1')\n",
        "plt.ylabel('Feature 2')\n",
        "plt.title(f'OPTICS Clustering with {num_clusters} Clusters')\n",
        "plt.show()\n"
      ]
    },
    {
      "cell_type": "code",
      "source": [
        "import numpy as np\n",
        "from sklearn.cluster import KMeans\n",
        "import pandas as pd\n",
        "\n",
        "# Assuming normalizedA_data is your original data (replace this with your actual data)\n",
        "normalizedA_np = np.array(normalizedA_data)\n",
        "\n",
        "# Extract the numeric columns for clustering\n",
        "numeric_columns = normalizedA_np[:, 3:]\n",
        "\n",
        "# Choose the number of clusters\n",
        "n_clusters = 22\n",
        "\n",
        "# Perform KMeans++ clustering\n",
        "kmeans = KMeans(n_clusters=n_clusters, init='k-means++', random_state=42)\n",
        "clusters = kmeans.fit_predict(numeric_columns)\n",
        "\n",
        "# Add the cluster labels to the original data\n",
        "normalizedA_clustered = pd.DataFrame(normalizedA_data, columns= dataFileA.columns[:-1])\n",
        "normalizedA_clustered['Cluster'] = clusters\n",
        "\n",
        "# Display the clustered data\n",
        "print(normalizedA_clustered)\n"
      ],
      "metadata": {
        "colab": {
          "base_uri": "https://localhost:8080/",
          "height": 245
        },
        "id": "1iCoVEIIqJsC",
        "outputId": "874896a1-b07d-438d-ce53-45f64c68d437"
      },
      "id": "1iCoVEIIqJsC",
      "execution_count": 4,
      "outputs": [
        {
          "output_type": "error",
          "ename": "NameError",
          "evalue": "ignored",
          "traceback": [
            "\u001b[0;31m---------------------------------------------------------------------------\u001b[0m",
            "\u001b[0;31mNameError\u001b[0m                                 Traceback (most recent call last)",
            "\u001b[0;32m<ipython-input-4-34eb1fa36e70>\u001b[0m in \u001b[0;36m<cell line: 6>\u001b[0;34m()\u001b[0m\n\u001b[1;32m      4\u001b[0m \u001b[0;34m\u001b[0m\u001b[0m\n\u001b[1;32m      5\u001b[0m \u001b[0;31m# Assuming normalizedA_data is your original data (replace this with your actual data)\u001b[0m\u001b[0;34m\u001b[0m\u001b[0;34m\u001b[0m\u001b[0m\n\u001b[0;32m----> 6\u001b[0;31m \u001b[0mnormalizedA_np\u001b[0m \u001b[0;34m=\u001b[0m \u001b[0mnp\u001b[0m\u001b[0;34m.\u001b[0m\u001b[0marray\u001b[0m\u001b[0;34m(\u001b[0m\u001b[0mnormalizedA_data\u001b[0m\u001b[0;34m)\u001b[0m\u001b[0;34m\u001b[0m\u001b[0;34m\u001b[0m\u001b[0m\n\u001b[0m\u001b[1;32m      7\u001b[0m \u001b[0;34m\u001b[0m\u001b[0m\n\u001b[1;32m      8\u001b[0m \u001b[0;31m# Extract the numeric columns for clustering\u001b[0m\u001b[0;34m\u001b[0m\u001b[0;34m\u001b[0m\u001b[0m\n",
            "\u001b[0;31mNameError\u001b[0m: name 'normalizedA_data' is not defined"
          ]
        }
      ]
    },
    {
      "cell_type": "code",
      "source": [
        "import numpy as np\n",
        "import pandas as pd\n",
        "from sklearn.cluster import KMeans\n",
        "import matplotlib.pyplot as plt\n",
        "\n",
        "# Assuming normalizedA_data is your original data (replace this with your actual data)\n",
        "normalizedA_np = np.array(normalizedA_data)\n",
        "\n",
        "# Extract the numeric columns for clustering\n",
        "numeric_columns = normalizedA_np[:, 3:]\n",
        "\n",
        "# Specify the number of clusters (you can adjust this based on your data)\n",
        "num_clusters = 2\n",
        "\n",
        "# Perform KMeans++ clustering\n",
        "kmeans = KMeans(n_clusters=num_clusters, init='k-means++', random_state=42)\n",
        "clusters = kmeans.fit_predict(numeric_columns)\n",
        "\n",
        "# Add the cluster labels to the original DataFrame\n",
        "normalizedA_clustered = pd.DataFrame(normalizedA_data, columns=dataFileA.columns[:-1])\n",
        "normalizedA_clustered['Cluster'] = clusters\n",
        "\n",
        "# Display the cluster assignments\n",
        "print(\"Cluster Assignments:\")\n",
        "print(normalizedA_clustered[['subject#', 'age', 'sex', 'Cluster']])\n",
        "#print(dataFileA[['subject#', 'age', 'sex', 'Cluster']])\n",
        "\n",
        "# Scatter plot\n",
        "plt.scatter(normalizedA_clustered['motor_UPDRS'], normalizedA_clustered['total_UPDRS'], c=normalizedA_clustered['Cluster'], cmap='viridis', alpha=0.5)\n",
        "plt.xlabel('motor_UPDRS')\n",
        "plt.ylabel('total_UPDRS')\n",
        "plt.title('KMeans++ Clustering')\n",
        "plt.show()\n",
        "\n"
      ],
      "metadata": {
        "colab": {
          "base_uri": "https://localhost:8080/",
          "height": 245
        },
        "id": "aO5suwpDrD2W",
        "outputId": "1a5a7985-3331-4d82-9998-633392bc0628"
      },
      "id": "aO5suwpDrD2W",
      "execution_count": 5,
      "outputs": [
        {
          "output_type": "error",
          "ename": "NameError",
          "evalue": "ignored",
          "traceback": [
            "\u001b[0;31m---------------------------------------------------------------------------\u001b[0m",
            "\u001b[0;31mNameError\u001b[0m                                 Traceback (most recent call last)",
            "\u001b[0;32m<ipython-input-5-0330cc37164f>\u001b[0m in \u001b[0;36m<cell line: 7>\u001b[0;34m()\u001b[0m\n\u001b[1;32m      5\u001b[0m \u001b[0;34m\u001b[0m\u001b[0m\n\u001b[1;32m      6\u001b[0m \u001b[0;31m# Assuming normalizedA_data is your original data (replace this with your actual data)\u001b[0m\u001b[0;34m\u001b[0m\u001b[0;34m\u001b[0m\u001b[0m\n\u001b[0;32m----> 7\u001b[0;31m \u001b[0mnormalizedA_np\u001b[0m \u001b[0;34m=\u001b[0m \u001b[0mnp\u001b[0m\u001b[0;34m.\u001b[0m\u001b[0marray\u001b[0m\u001b[0;34m(\u001b[0m\u001b[0mnormalizedA_data\u001b[0m\u001b[0;34m)\u001b[0m\u001b[0;34m\u001b[0m\u001b[0;34m\u001b[0m\u001b[0m\n\u001b[0m\u001b[1;32m      8\u001b[0m \u001b[0;34m\u001b[0m\u001b[0m\n\u001b[1;32m      9\u001b[0m \u001b[0;31m# Extract the numeric columns for clustering\u001b[0m\u001b[0;34m\u001b[0m\u001b[0;34m\u001b[0m\u001b[0m\n",
            "\u001b[0;31mNameError\u001b[0m: name 'normalizedA_data' is not defined"
          ]
        }
      ]
    },
    {
      "cell_type": "code",
      "source": [
        "import numpy as np\n",
        "import pandas as pd\n",
        "from sklearn.model_selection import train_test_split\n",
        "from sklearn.svm import SVC\n",
        "from sklearn.metrics import accuracy_score, confusion_matrix\n",
        "import matplotlib.pyplot as plt\n",
        "\n",
        "# Assuming normalizedA_clustered is your KMeans++ clustered data (replace this with your actual data)\n",
        "# ...\n",
        "\n",
        "# Features (X): Use relevant columns based on your data\n",
        "features = normalizedA_clustered[['motor_UPDRS', 'total_UPDRS']].values\n",
        "\n",
        "# Labels (y): Cluster assignments obtained from KMeans++\n",
        "labels = normalizedA_clustered['Cluster'].values\n",
        "\n",
        "# Split the data into training and testing sets\n",
        "X_train, X_test, y_train, y_test = train_test_split(features, labels, test_size=0.2, random_state=42)\n",
        "\n",
        "# SVM classifier\n",
        "svm_classifier = SVC(kernel='linear', C=1.0, random_state=42)\n",
        "\n",
        "# Train the SVM classifier\n",
        "svm_classifier.fit(X_train, y_train)\n",
        "\n",
        "# Predict on the test set\n",
        "y_pred = svm_classifier.predict(X_test)\n",
        "\n",
        "# Evaluate the classifier\n",
        "accuracy = accuracy_score(y_test, y_pred)\n",
        "conf_matrix = confusion_matrix(y_test, y_pred)\n",
        "\n",
        "# Display evaluation metrics\n",
        "print(f\"Accuracy: {accuracy * 100:.2f}%\")\n",
        "print(\"Confusion Matrix:\")\n",
        "print(conf_matrix)\n",
        "\n",
        "# Scatter plot of the SVM decision boundary\n",
        "h = .02  # step size in the mesh\n",
        "x_min, x_max = features[:, 0].min() - 1, features[:, 0].max() + 1\n",
        "y_min, y_max = features[:, 1].min() - 1, features[:, 1].max() + 1\n",
        "xx, yy = np.meshgrid(np.arange(x_min, x_max, h), np.arange(y_min, y_max, h))\n",
        "\n",
        "Z = svm_classifier.predict(np.c_[xx.ravel(), yy.ravel()])\n",
        "Z = Z.reshape(xx.shape)\n",
        "\n",
        "plt.contourf(xx, yy, Z, cmap=plt.cm.coolwarm, alpha=0.3)\n",
        "plt.scatter(features[:, 0], features[:, 1], c=labels, cmap='viridis', edgecolors='k', marker='o')\n",
        "plt.xlabel('motor_UPDRS')\n",
        "plt.ylabel('total_UPDRS')\n",
        "plt.title('SVM Classification on KMeans++ Clustered Data')\n",
        "plt.show()\n"
      ],
      "metadata": {
        "colab": {
          "base_uri": "https://localhost:8080/",
          "height": 541
        },
        "id": "eu_JycOntQEo",
        "outputId": "16fcc912-2a2e-42df-e6af-eb59429a6f17"
      },
      "id": "eu_JycOntQEo",
      "execution_count": null,
      "outputs": [
        {
          "output_type": "stream",
          "name": "stdout",
          "text": [
            "Accuracy: 94.89%\n",
            "Confusion Matrix:\n",
            "[[506  24]\n",
            " [ 36 609]]\n"
          ]
        },
        {
          "output_type": "display_data",
          "data": {
            "text/plain": [
              "<Figure size 640x480 with 1 Axes>"
            ],
            "image/png": "[encoded data removed]"
          },
          "metadata": {}
        }
      ]
    },
    {
      "cell_type": "code",
      "source": [
        "import numpy as np\n",
        "from sklearn.cluster import OPTICS\n",
        "import matplotlib.pyplot as plt\n",
        "\n",
        "# Assuming dataFileA_np is your original data\n",
        "# Extracting the non-continuous columns\n",
        "non_continuous_columns = dataFileA_np[:, :3]\n",
        "\n",
        "# Extracting the target columns for normalization\n",
        "target_columns = dataFileA_np[:, -2:]  # Assuming motor_UPDRS and total_UPDRS are the last two columns\n",
        "\n",
        "# Normalizing the target columns\n",
        "normalized_target_columns = (target_columns - np.min(target_columns, axis=0)) / (np.max(target_columns, axis=0) - np.min(target_columns, axis=0))\n",
        "\n",
        "# Concatenating the non-continuous and normalized target columns\n",
        "normalized_data = np.hstack((non_continuous_columns, normalized_target_columns))\n",
        "\n",
        "# Fitting the OPTICS model\n",
        "clustering = OPTICS(min_samples=5, xi=0.05, min_cluster_size=0.05)\n",
        "clustering.fit(normalized_data)\n",
        "\n",
        "# Plotting the reachability plot\n",
        "reachability = clustering.reachability_[clustering.ordering_]\n",
        "labels = clustering.labels_[clustering.ordering_]\n",
        "\n",
        "plt.figure(figsize=(10, 5))\n",
        "plt.plot(reachability, marker='.')\n",
        "plt.title('Reachability Plot')\n",
        "plt.xlabel('Data Points')\n",
        "plt.ylabel('Reachability Distance')\n",
        "plt.show()\n",
        "\n",
        "# Plotting the OPTICS clustering result\n",
        "plt.figure(figsize=(10, 5))\n",
        "colors = np.array([plt.cm.tab20(i) for i in range(len(set(labels)))])\n",
        "plt.scatter(normalized_data[:, 0], normalized_data[:, 1], c=colors[labels])\n",
        "plt.title('OPTICS Clustering Result')\n",
        "plt.xlabel('Feature 1')\n",
        "plt.ylabel('Feature 2')\n",
        "plt.show()\n"
      ],
      "metadata": {
        "id": "Mdbg5snSs5On",
        "colab": {
          "base_uri": "https://localhost:8080/",
          "height": 957
        },
        "outputId": "380ec967-abe4-4504-858b-7bdeaa769886"
      },
      "id": "Mdbg5snSs5On",
      "execution_count": 14,
      "outputs": [
        {
          "output_type": "display_data",
          "data": {
            "text/plain": [
              "<Figure size 1000x500 with 1 Axes>"
            ],
            "image/png": "[encoded data removed]"
          },
          "metadata": {}
        },
        {
          "output_type": "display_data",
          "data": {
            "text/plain": [
              "<Figure size 1000x500 with 1 Axes>"
            ],
            "image/png": "[encoded data removed]"
          },
          "metadata": {}
        }
      ]
    },
    {
      "cell_type": "code",
      "source": [
        "import numpy as np\n",
        "from sklearn.model_selection import train_test_split\n",
        "from sklearn.svm import SVR\n",
        "from sklearn.metrics import mean_squared_error, r2_score\n",
        "\n",
        "# Assuming dataFileA_np is your normalized data with the target variables\n",
        "\n",
        "# Extracting features and target variables\n",
        "X = dataFileA_np[:, :-2]  # All columns except the last two (motor_UPDRS and total_UPDRS)\n",
        "y = dataFileA_np[:, -2]    # Target variable (motor_UPDRS)\n",
        "\n",
        "# Splitting the data into training and testing sets\n",
        "X_train, X_test, y_train, y_test = train_test_split(X, y, test_size=0.2, random_state=42)\n",
        "\n",
        "# Initializing the SVR model\n",
        "svr_model = SVR(kernel='linear', C=1.0)  # You can choose different parameters based on your data\n",
        "\n",
        "# Training the SVR model\n",
        "svr_model.fit(X_train, y_train)\n",
        "\n",
        "# Making predictions on the test set\n",
        "y_pred = svr_model.predict(X_test)\n",
        "\n",
        "# Evaluating the performance\n",
        "mse = mean_squared_error(y_test, y_pred)\n",
        "r2 = r2_score(y_test, y_pred)\n",
        "\n",
        "# Print the results\n",
        "print(f\"Mean Squared Error: {mse:.2f}\")\n",
        "print(f\"R-squared: {r2:.2f}\")\n"
      ],
      "metadata": {
        "colab": {
          "base_uri": "https://localhost:8080/"
        },
        "id": "80ZKxOivo1Oh",
        "outputId": "20508547-369b-49fc-88e9-7fbcecc53751"
      },
      "id": "80ZKxOivo1Oh",
      "execution_count": 16,
      "outputs": [
        {
          "output_type": "stream",
          "name": "stdout",
          "text": [
            "Mean Squared Error: 0.02\n",
            "R-squared: 0.38\n"
          ]
        }
      ]
    },
    {
      "cell_type": "code",
      "source": [
        "# Define a threshold for considering predictions as correct\n",
        "threshold = 1.0  # You can adjust this value based on your problem\n",
        "\n",
        "# Calculate accuracy-like metric\n",
        "accuracy_like_metric = np.mean(np.abs(y_pred - y_test) <= threshold)\n",
        "\n",
        "# Additional metrics for regression\n",
        "mse = mean_squared_error(y_test, y_pred)\n",
        "r2 = r2_score(y_test, y_pred)\n",
        "\n",
        "# Print the results\n",
        "print(f\"Mean Squared Error: {mse:.2f}\")\n",
        "print(f\"R-squared: {r2:.2f}\")\n"
      ],
      "metadata": {
        "colab": {
          "base_uri": "https://localhost:8080/"
        },
        "id": "YrUjulIHp05x",
        "outputId": "d0300503-760b-41bb-f84a-5d12f78abdf7"
      },
      "id": "YrUjulIHp05x",
      "execution_count": 18,
      "outputs": [
        {
          "output_type": "stream",
          "name": "stdout",
          "text": [
            "Mean Squared Error: 0.02\n",
            "R-squared: 0.38\n"
          ]
        }
      ]
    }
  ],
  "metadata": {
    "kernelspec": {
      "display_name": "Python 3 (ipykernel)",
      "language": "python",
      "name": "python3"
    },
    "language_info": {
      "codemirror_mode": {
        "name": "ipython",
        "version": 3
      },
      "file_extension": ".py",
      "mimetype": "text/x-python",
      "name": "python",
      "nbconvert_exporter": "python",
      "pygments_lexer": "ipython3",
      "version": "3.11.5"
    },
    "colab": {
      "provenance": []
    }
  },
  "nbformat": 4,
  "nbformat_minor": 5
}